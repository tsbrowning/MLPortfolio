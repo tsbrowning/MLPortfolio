{
 "cells": [
  {
   "cell_type": "code",
   "execution_count": 1,
   "metadata": {},
   "outputs": [
    {
     "name": "stderr",
     "output_type": "stream",
     "text": [
      "Using TensorFlow backend.\n"
     ]
    }
   ],
   "source": [
    "import numpy as np\n",
    "\n",
    "from matplotlib import pyplot as plt\n",
    "import seaborn as sns\n",
    "\n",
    "from keras.preprocessing.text import Tokenizer\n",
    "from keras.preprocessing.sequence import pad_sequences\n",
    "from keras import regularizers\n",
    "\n",
    "dlist = []\n",
    "y = []\n",
    "count = 0\n",
    "with open('ppdata.csv', 'r', encoding='utf-8') as r:\n",
    "    count = 0\n",
    "    for l in r:\n",
    "        if count > 0:\n",
    "            #print(type(l))\n",
    "            l = l.split(',')\n",
    "            #print(l)\n",
    "            val = l[0]\n",
    "            wds = l[1]\n",
    "            wrds = wds.split(' ')\n",
    "            #f = [val, wrds]\n",
    "            dlist.append(wrds)\n",
    "            y.append([np.asarray(int(val), dtype=np.int32)])\n",
    "            count += 1\n",
    "        else:\n",
    "            count += 1\n",
    "        #if count > 10:\n",
    "            #break\n",
    "            \n",
    "y = np.array(y)\n",
    "\n",
    "max_words = 12000\n",
    "max_len = 200\n",
    "\n",
    "tokenizer = Tokenizer(num_words=max_words)\n",
    "tokenizer.fit_on_texts(dlist)\n",
    "sequences = tokenizer.texts_to_sequences(dlist)\n",
    "x = pad_sequences(sequences, maxlen=max_len)\n",
    "x = x.astype(np.float32)"
   ]
  },
  {
   "cell_type": "code",
   "execution_count": 2,
   "metadata": {},
   "outputs": [],
   "source": [
    "def sigmoid(x):\n",
    "    \"\"\" Sigmoid activation function for an array of neuron outputs.\n",
    "    Args:\n",
    "      x: Array/single element of neuron outputs before activation \n",
    "    Returns: \n",
    "      An array the same length as x with the sigmoid activation applied. \n",
    "    \"\"\"\n",
    "    return 1/(1+np.exp(-x))\n",
    "\n",
    "\n",
    "def dsigmoid(y):\n",
    "    \"\"\" Derivative of the sigmoid activation function with respect to the input x of the activation.\n",
    "      Args: \n",
    "        y: Array/single element of neuron outputs after activation \n",
    "      Returns: \n",
    "        An array the same length as y representing the derivative with respect to x\n",
    "    \"\"\"\n",
    "    return y*(1-y)\n",
    "\n",
    "\n",
    "def mse(y, pred):\n",
    "    \"\"\"Mean squared error function comparing real target values with predictions.\n",
    "    Args:\n",
    "      y: List containing real target values \n",
    "      pred: List containing predicted target values (must have the same shape as y)\n",
    "    Returns:\n",
    "      Mean squared error between the two arrays\n",
    "    \"\"\"\n",
    "    return np.mean(np.square(y - pred))\n"
   ]
  },
  {
   "cell_type": "code",
   "execution_count": 3,
   "metadata": {},
   "outputs": [],
   "source": [
    "shuffle_ind = np.random.permutation(len(x))  # shuffle data for training\n",
    "x = np.array(x[shuffle_ind])\n",
    "# convert y to a column to make it more consistent with x\n",
    "#y = np.array(y[shuffle_ind])[np.newaxis].T\n",
    "\n",
    "x /= np.max(x)  # linearly scaling the inputs to a range between 0 and 1\n",
    "\n",
    "train_fraction = 0.75\n",
    "train_idx = int(len(x)*train_fraction)\n",
    "\n",
    "x_train = x[:train_idx]\n",
    "y_train = y[:train_idx]\n",
    "\n",
    "x_val = x[train_idx:]\n",
    "y_val = y[train_idx:]"
   ]
  },
  {
   "cell_type": "code",
   "execution_count": 4,
   "metadata": {},
   "outputs": [
    {
     "name": "stdout",
     "output_type": "stream",
     "text": [
      "Validation loss: 0.26624980616148053\n",
      "Validation accuracy: 0.4976\n"
     ]
    },
    {
     "data": {
      "image/png": "[encoded data removed]",
      "text/plain": [
       "<Figure size 432x288 with 2 Axes>"
      ]
     },
     "metadata": {},
     "output_type": "display_data"
    },
    {
     "name": "stdout",
     "output_type": "stream",
     "text": [
      "processing time in seconds: 512\n"
     ]
    }
   ],
   "source": [
    "import time\n",
    "start = time.time()\n",
    "\n",
    "# Training a two layer neural network.\n",
    "w1 = 2*np.random.random((np.array(x).shape[1], 5)) - 1\n",
    "w2 = 2*np.random.random((5, 1)) - 1\n",
    "\n",
    "lr = 0.05 \n",
    "history = {\"loss\": [], \"val_loss\": [], \"acc\": [],\n",
    "           \"val_acc\": []}  # Metrics to track while training\n",
    "epochs = 5000\n",
    "\n",
    "for iter in range(epochs):\n",
    "    # forward propagation\n",
    "    l0 = x_train  # layer 0 output\n",
    "    l1 = sigmoid(np.matmul(l0, w1))  # layer 1 output\n",
    "    l2 = sigmoid(np.matmul(l1, w2))  # layer 2 output\n",
    "\n",
    "    l2_error = l2 - y_train  # Output layer error, (dE/do)\n",
    "    l2_gradient = dsigmoid(l2)  # (do/dnetx)\n",
    "    l2_delta = np.multiply(l2_error, l2_gradient) # (dE/do * do/dnetx = dE/dnetx)\n",
    "    l2_weight_delta = np.matmul(l1.T, l2_delta) # (dnetx/dwij * dE/dnetx = dE/dwij)\n",
    "    \n",
    "    l1_error = np.matmul(l2_delta, w2.T)\n",
    "    l1_gradient = dsigmoid(l1)  # (do/dnetx)\n",
    "    l1_delta = np.multiply(l1_error, l1_gradient) # (dE/do * do/dnetx = dE/dnetx)\n",
    "    l1_weight_delta = np.matmul(l0.T, l1_delta) # (dnetx/dwij * dE/dnetx = dE/dwij)\n",
    "\n",
    "    # update weights with a scaling factor of learning rate\n",
    "    w2 -= l2_weight_delta * lr\n",
    "    w1 -= l1_weight_delta * lr\n",
    "\n",
    "    if iter % 100 == 0:\n",
    "        # Recording metrics\n",
    "        train_loss = mse(y_train, l2)\n",
    "        train_acc = np.sum(y_train == np.around(l2))/len(x_train)\n",
    "        history[\"loss\"].append(train_loss)\n",
    "        history[\"acc\"].append(train_acc)\n",
    "\n",
    "        l1 = sigmoid(np.matmul(x_val, w1))  # layer 1 output\n",
    "        val_pred = sigmoid(np.matmul(l1, w2))  # layer 2 output\n",
    "        val_loss = mse(y_val, val_pred)\n",
    "        val_acc = np.sum(y_val == np.around(val_pred))/len(x_val)\n",
    "        history[\"val_loss\"].append(val_loss)\n",
    "        history[\"val_acc\"].append(val_acc)\n",
    "        #print('Epoch: {}, Training Loss: {}, Validation Acc: {}'.format(iter, train_loss, val_acc))\n",
    "\n",
    "l1 = sigmoid(np.matmul(x_val, w1))  # layer 1 output\n",
    "val_pred = sigmoid(np.matmul(l1, w2))  # layer 2 output\n",
    "print(\"Validation loss: {}\".format(mse(y_val, val_pred)))\n",
    "print(\"Validation accuracy: {}\".format(\n",
    "    np.sum(y_val == np.around(val_pred))/len(x_val)))\n",
    "\n",
    "# Plotting\n",
    "sns.set()\n",
    "fig = plt.figure()\n",
    "plt.subplot(2, 1, 1)\n",
    "plt.plot(history['loss'], label=\"Training Loss\")\n",
    "plt.plot(history['val_loss'], label=\"Validation Loss\")\n",
    "plt.legend()\n",
    "\n",
    "plt.subplot(2, 1, 2)\n",
    "plt.plot(history['acc'], label=\"Training Accuracy\")\n",
    "plt.plot(history['val_acc'], label=\"Validation Accuracy\")\n",
    "plt.legend()\n",
    "\n",
    "plt.show()\n",
    "end = time.time()\n",
    "print('processing time in seconds:', int(end-start))"
   ]
  },
  {
   "cell_type": "code",
   "execution_count": null,
   "metadata": {},
   "outputs": [],
   "source": []
  }
 ],
 "metadata": {
  "kernelspec": {
   "display_name": "Python 3",
   "language": "python",
   "name": "python3"
  },
  "language_info": {
   "codemirror_mode": {
    "name": "ipython",
    "version": 3
   },
   "file_extension": ".py",
   "mimetype": "text/x-python",
   "name": "python",
   "nbconvert_exporter": "python",
   "pygments_lexer": "ipython3",
   "version": "3.8.5"
  }
 },
 "nbformat": 4,
 "nbformat_minor": 4
}
