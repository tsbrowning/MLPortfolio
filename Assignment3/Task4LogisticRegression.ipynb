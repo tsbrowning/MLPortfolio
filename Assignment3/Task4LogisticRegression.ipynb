{
 "cells": [
  {
   "cell_type": "code",
   "execution_count": 1,
   "metadata": {},
   "outputs": [
    {
     "name": "stderr",
     "output_type": "stream",
     "text": [
      "Using TensorFlow backend.\n"
     ]
    }
   ],
   "source": [
    "import numpy as np\n",
    "from sklearn.linear_model import LogisticRegression\n",
    "from sklearn.model_selection import cross_val_score\n",
    "from keras.preprocessing.text import Tokenizer\n",
    "from keras.preprocessing.sequence import pad_sequences\n",
    "\n",
    "dlist = []\n",
    "y = []\n",
    "count = 0\n",
    "with open('ppdata.csv', 'r', encoding='utf-8') as r:\n",
    "    count = 0\n",
    "    for l in r:\n",
    "        if count > 0:\n",
    "            #print(type(l))\n",
    "            l = l.split(',')\n",
    "            #print(l)\n",
    "            val = l[0]\n",
    "            wds = l[1]\n",
    "            wrds = wds.split(' ')\n",
    "            #f = [val, wrds]\n",
    "            dlist.append(wrds)\n",
    "            y.append([np.asarray(int(val), dtype=np.int32)])\n",
    "            count += 1\n",
    "        else:\n",
    "            count += 1\n",
    "        #if count > 10:\n",
    "            #break\n",
    "            \n",
    "y = np.array(y)\n",
    "y = y.ravel()\n",
    "\n",
    "max_words = 12000\n",
    "max_len = 200\n",
    "\n",
    "tokenizer = Tokenizer(num_words=max_words)\n",
    "tokenizer.fit_on_texts(dlist)\n",
    "sequences = tokenizer.texts_to_sequences(dlist)\n",
    "x = pad_sequences(sequences, maxlen=max_len)\n",
    "x = x.astype(np.float32)"
   ]
  },
  {
   "cell_type": "code",
   "execution_count": 2,
   "metadata": {},
   "outputs": [],
   "source": [
    "shuffle_ind = np.random.permutation(len(x))  # shuffle data for training\n",
    "x = np.array(x[shuffle_ind])\n",
    "\n",
    "x /= np.max(x)  # linearly scaling the inputs to a range between 0 and 1\n",
    "\n",
    "train_fraction = 0.75\n",
    "train_idx = int(len(x)*train_fraction)\n",
    "\n",
    "x_train = x[:train_idx]\n",
    "y_train = y[:train_idx]\n",
    "\n",
    "x_val = x[train_idx:]\n",
    "y_val = y[train_idx:]"
   ]
  },
  {
   "cell_type": "code",
   "execution_count": 3,
   "metadata": {},
   "outputs": [],
   "source": [
    "def mse(y, pred):\n",
    "    \"\"\"Mean squared error function comparing real target values with predictions.\n",
    "    Args:\n",
    "      y: List containing real target values \n",
    "      pred: List containing predicted target values (must have the same shape as y)\n",
    "    Returns:\n",
    "      Mean squared error between the two arrays\n",
    "    \"\"\"\n",
    "    return np.mean(np.square(y - pred))"
   ]
  },
  {
   "cell_type": "code",
   "execution_count": 5,
   "metadata": {},
   "outputs": [
    {
     "name": "stdout",
     "output_type": "stream",
     "text": [
      "5 fold cross validation score: 0.49504000000000004\n",
      "validation loss: 0.4747733333333333\n",
      "validation accuracy 0.52052\n"
     ]
    }
   ],
   "source": [
    "clf = LogisticRegression(random_state=0, solver='sag').fit(x_train, y_train)\n",
    "scores = cross_val_score(clf, x_val, y_val, cv=5)\n",
    "pred = clf.predict(x_train)\n",
    "val_loss = mse(pred, y_train)\n",
    "print('5 fold cross validation score:', sum(scores)/len(scores))\n",
    "print('validation loss:', val_loss)\n",
    "print('validation accuracy', clf.score(x, y))"
   ]
  },
  {
   "cell_type": "code",
   "execution_count": null,
   "metadata": {},
   "outputs": [],
   "source": []
  }
 ],
 "metadata": {
  "kernelspec": {
   "display_name": "Python 3",
   "language": "python",
   "name": "python3"
  },
  "language_info": {
   "codemirror_mode": {
    "name": "ipython",
    "version": 3
   },
   "file_extension": ".py",
   "mimetype": "text/x-python",
   "name": "python",
   "nbconvert_exporter": "python",
   "pygments_lexer": "ipython3",
   "version": "3.8.5"
  }
 },
 "nbformat": 4,
 "nbformat_minor": 4
}
