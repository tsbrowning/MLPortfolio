{
 "cells": [
  {
   "cell_type": "code",
   "execution_count": 1,
   "metadata": {},
   "outputs": [],
   "source": [
    "name = ['James', 'Tony', 'Mason', 'Mary', 'Scarlett', 'Ken', 'Lily', 'Audrey', 'Hazel', 'Evelyn'] #included to possibly be used as labels for examples\n",
    "age = [ 20, 22, 30, 20, 26, 18, 30, 16, 18, 18] #age feature\n",
    "country = ['Germany', 'Germany', 'UK', 'Germany', 'UK', 'Spain', 'UK', 'UK', 'Spain', 'Spain'] #country feature\n",
    "gender = ['M', 'M', 'M', 'F', 'F', 'M', 'F', 'F', 'F', 'M'] #gender feature\n",
    "genre = ['Rock', 'Rock', 'Jazz', 'Rock', 'Jazz', 'Pop', 'Jazz', 'Pop', 'Pop', 'Pop'] #genre labels- classifier output"
   ]
  },
  {
   "cell_type": "code",
   "execution_count": 2,
   "metadata": {},
   "outputs": [
    {
     "name": "stdout",
     "output_type": "stream",
     "text": [
      "[0 0 2 0 2 1 2 2 1 1]\n",
      "[1 1 1 0 0 1 0 0 0 1]\n",
      "[2 2 0 2 0 1 0 1 1 1]\n",
      "[(20, 0, 1), (22, 0, 1), (30, 2, 1), (20, 0, 0), (26, 2, 0), (18, 1, 1), (30, 2, 0), (16, 2, 0), (18, 1, 0), (18, 1, 1)]\n"
     ]
    }
   ],
   "source": [
    "from sklearn import preprocessing\n",
    "le = preprocessing.LabelEncoder() #create a label encoder\n",
    "countryEncoded = le.fit_transform(country) #Fit the encoder on the country features.\n",
    "print(countryEncoded)\n",
    "genderEncoded = le.fit_transform(gender) #Fit the encoder on the gender features.\n",
    "print(genderEncoded)\n",
    "genreEncoded = le.fit_transform(genre) # Fit encoder on the genre\n",
    "print(genreEncoded)\n",
    "#Age is already numeric, and doesn't need to be encoded\n",
    "\n",
    "features = list(zip(age, countryEncoded, genderEncoded)) #make tuples of the three encoded lists\n",
    "print(features)"
   ]
  },
  {
   "cell_type": "code",
   "execution_count": 3,
   "metadata": {},
   "outputs": [
    {
     "data": {
      "text/plain": [
       "MultinomialNB()"
      ]
     },
     "execution_count": 3,
     "metadata": {},
     "output_type": "execute_result"
    }
   ],
   "source": [
    "from sklearn.naive_bayes import MultinomialNB\n",
    "model = MultinomialNB() # Build multinomial naive bayes\n",
    "model.fit(features, genreEncoded) # Fit NB classifier on training data"
   ]
  },
  {
   "cell_type": "code",
   "execution_count": 4,
   "metadata": {},
   "outputs": [
    {
     "name": "stdout",
     "output_type": "stream",
     "text": [
      "[1]\n",
      "['Pop']\n"
     ]
    }
   ],
   "source": [
    "result = model.predict ([[3, 1, 0]])\n",
    "print(result)\n",
    "print(list(le.inverse_transform(result)))"
   ]
  },
  {
   "cell_type": "code",
   "execution_count": null,
   "metadata": {},
   "outputs": [],
   "source": []
  }
 ],
 "metadata": {
  "kernelspec": {
   "display_name": "Python 3",
   "language": "python",
   "name": "python3"
  },
  "language_info": {
   "codemirror_mode": {
    "name": "ipython",
    "version": 3
   },
   "file_extension": ".py",
   "mimetype": "text/x-python",
   "name": "python",
   "nbconvert_exporter": "python",
   "pygments_lexer": "ipython3",
   "version": "3.8.5"
  }
 },
 "nbformat": 4,
 "nbformat_minor": 4
}
